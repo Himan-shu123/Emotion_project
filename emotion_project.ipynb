{
 "cells": [
  {
   "cell_type": "code",
   "execution_count": 7,
   "id": "397e1d81-4945-4a31-9e23-7cdecef59583",
   "metadata": {},
   "outputs": [
    {
     "name": "stdout",
     "output_type": "stream",
     "text": [
      "✅ Accuracy: 0.75\n",
      "\n",
      "📋 Classification Report:\n",
      "               precision    recall  f1-score   support\n",
      "\n",
      "       angry       0.50      1.00      0.67         1\n",
      "       happy       1.00      0.50      0.67         2\n",
      "         sad       1.00      1.00      1.00         1\n",
      "\n",
      "    accuracy                           0.75         4\n",
      "   macro avg       0.83      0.83      0.78         4\n",
      "weighted avg       0.88      0.75      0.75         4\n",
      "\n"
     ]
    },
    {
     "data": {
      "image/png": "[encoded data removed]",
      "text/plain": [
       "<Figure size 640x480 with 2 Axes>"
      ]
     },
     "metadata": {},
     "output_type": "display_data"
    },
    {
     "name": "stdout",
     "output_type": "stream",
     "text": [
      "✅ Model saved as emotion_classifier.pkl\n"
     ]
    },
    {
     "data": {
      "text/markdown": [
       "## 🔍 Enter your own text to detect emotion"
      ],
      "text/plain": [
       "<IPython.core.display.Markdown object>"
      ]
     },
     "metadata": {},
     "output_type": "display_data"
    },
    {
     "data": {
      "application/vnd.jupyter.widget-view+json": {
       "model_id": "1ac4671a966040058688fda19a1211e7",
       "version_major": 2,
       "version_minor": 0
      },
      "text/plain": [
       "Text(value='', description='Your Text:', layout=Layout(width='70%'), placeholder='Type something here...')"
      ]
     },
     "metadata": {},
     "output_type": "display_data"
    },
    {
     "data": {
      "application/vnd.jupyter.widget-view+json": {
       "model_id": "0cbfe2bfc9fd489982db203fff9d569e",
       "version_major": 2,
       "version_minor": 0
      },
      "text/plain": [
       "Button(button_style='success', description='Predict Emotion', style=ButtonStyle())"
      ]
     },
     "metadata": {},
     "output_type": "display_data"
    },
    {
     "data": {
      "application/vnd.jupyter.widget-view+json": {
       "model_id": "9413d4364ddf4477a6c57d0ff605fc81",
       "version_major": 2,
       "version_minor": 0
      },
      "text/plain": [
       "Output()"
      ]
     },
     "metadata": {},
     "output_type": "display_data"
    }
   ],
   "source": [
    "# 📌 Step 1: Import Required Libraries\n",
    "import pandas as pd\n",
    "import numpy as np\n",
    "import seaborn as sns\n",
    "import matplotlib.pyplot as plt\n",
    "from sklearn.model_selection import train_test_split\n",
    "from sklearn.feature_extraction.text import TfidfVectorizer\n",
    "from sklearn.linear_model import LogisticRegression\n",
    "from sklearn.metrics import classification_report, accuracy_score, confusion_matrix\n",
    "from sklearn.pipeline import Pipeline\n",
    "import neattext.functions as nfx\n",
    "import joblib\n",
    "import ipywidgets as widgets\n",
    "from IPython.display import display, Markdown, clear_output\n",
    "\n",
    "# 📌 Step 2: Sample Dataset (You can replace this with a larger Kaggle dataset)\n",
    "# 📌 Step 2: Sample Dataset (Updated to improve prediction for exact phrases)\n",
    "data = {\n",
    "    \"text\": [\n",
    "        \"I am so happy today!\", \n",
    "        \"This is terrible and makes me angry\", \n",
    "        \"I feel sad and down\", \n",
    "        \"This is wonderful news\", \n",
    "        \"I am absolutely furious\",\n",
    "        \"I am excited to begin\",\n",
    "        \"I hate everything about this\",\n",
    "        \"I'm scared and anxious\",\n",
    "        \"That was hilarious\",\n",
    "        \"I feel hopeful and calm\",\n",
    "        \"I am feeling sad\",\n",
    "        \"I am feeling happy\",\n",
    "        \"I am feeling angry\",\n",
    "        \"I am happy\",   # ✅ added\n",
    "        \"I am sad\",     # ✅ added\n",
    "        \"I am angry\"    # ✅ added\n",
    "    ],\n",
    "    \"emotion\": [\n",
    "        \"happy\", \"angry\", \"sad\", \"happy\", \"angry\", \n",
    "        \"happy\", \"angry\", \"fear\", \"happy\", \"neutral\",\n",
    "        \"sad\", \"happy\", \"angry\",\n",
    "        \"happy\", \"sad\", \"angry\"  # ✅ corresponding labels\n",
    "    ]\n",
    "}\n",
    "\n",
    " \n",
    "\n",
    "df = pd.DataFrame(data)\n",
    "\n",
    "# 📌 Step 3: Clean Text\n",
    "df['clean_text'] = df['text'].apply(nfx.remove_stopwords)\n",
    "df['clean_text'] = df['clean_text'].apply(nfx.remove_special_characters)\n",
    "\n",
    "# 📌 Step 4: Train-Test Split\n",
    "X = df['clean_text']\n",
    "y = df['emotion']\n",
    "X_train, X_test, y_train, y_test = train_test_split(X, y, test_size=0.2, random_state=42)\n",
    "\n",
    "# 📌 Step 5: Build Pipeline\n",
    "emotion_pipeline = Pipeline([\n",
    "    ('tfidf', TfidfVectorizer()),\n",
    "    ('clf', LogisticRegression())\n",
    "])\n",
    "\n",
    "# 📌 Step 6: Train Model\n",
    "emotion_pipeline.fit(X_train, y_train)\n",
    "\n",
    "# 📌 Step 7: Evaluate Model\n",
    "y_pred = emotion_pipeline.predict(X_test)\n",
    "print(\"✅ Accuracy:\", accuracy_score(y_test, y_pred))\n",
    "print(\"\\n📋 Classification Report:\\n\", classification_report(y_test, y_pred))\n",
    "\n",
    "# 📌 Step 8: Confusion Matrix\n",
    "sns.heatmap(confusion_matrix(y_test, y_pred), annot=True, fmt='d', cmap='Blues', \n",
    "            xticklabels=np.unique(y), yticklabels=np.unique(y))\n",
    "plt.xlabel(\"Predicted\")\n",
    "plt.ylabel(\"True\")\n",
    "plt.title(\"Confusion Matrix\")\n",
    "plt.show()\n",
    "\n",
    "# 📌 Step 9: Save Model\n",
    "joblib.dump(emotion_pipeline, \"emotion_classifier.pkl\")\n",
    "print(\"✅ Model saved as emotion_classifier.pkl\")\n",
    "\n",
    "# 📌 Step 10: Load Model for User Input\n",
    "loaded_model = joblib.load(\"emotion_classifier.pkl\")\n",
    "\n",
    "# 📌 Step 11: UI for User Input using ipywidgets\n",
    "text_input = widgets.Text(\n",
    "    value='',\n",
    "    placeholder='Type something here...',\n",
    "    description='Your Text:',\n",
    "    layout=widgets.Layout(width='70%')\n",
    ")\n",
    "\n",
    "predict_button = widgets.Button(\n",
    "    description=\"Predict Emotion\",\n",
    "    button_style='success'\n",
    ")\n",
    "\n",
    "output = widgets.Output()\n",
    "\n",
    "def on_button_click(b):\n",
    "    with output:\n",
    "        output.clear_output()\n",
    "        user_text = text_input.value\n",
    "        if user_text.strip() == \"\":\n",
    "            display(Markdown(\"⚠️ **Please enter some text.**\"))\n",
    "            return\n",
    "        clean_input = nfx.remove_special_characters(nfx.remove_stopwords(user_text))\n",
    "        prediction = loaded_model.predict([clean_input])[0]\n",
    "        display(Markdown(f\"### 🧠 Predicted Emotion: `{prediction}`\"))\n",
    "\n",
    "predict_button.on_click(on_button_click)\n",
    "\n",
    "display(Markdown(\"## 🔍 Enter your own text to detect emotion\"))\n",
    "display(text_input, predict_button, output)"
   ]
  },
  {
   "cell_type": "code",
   "execution_count": null,
   "id": "0b4e8b31-aac7-4a2b-8065-ba06a4ca698a",
   "metadata": {},
   "outputs": [],
   "source": []
  }
 ],
 "metadata": {
  "kernelspec": {
   "display_name": "Python 3 (ipykernel)",
   "language": "python",
   "name": "python3"
  },
  "language_info": {
   "codemirror_mode": {
    "name": "ipython",
    "version": 3
   },
   "file_extension": ".py",
   "mimetype": "text/x-python",
   "name": "python",
   "nbconvert_exporter": "python",
   "pygments_lexer": "ipython3",
   "version": "3.12.7"
  }
 },
 "nbformat": 4,
 "nbformat_minor": 5
}
